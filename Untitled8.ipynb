{
  "nbformat": 4,
  "nbformat_minor": 0,
  "metadata": {
    "colab": {
      "provenance": [],
      "authorship_tag": "ABX9TyMW9uA5e7K43oDkwx7Hhe/D",
      "include_colab_link": true
    },
    "kernelspec": {
      "name": "python3",
      "display_name": "Python 3"
    },
    "language_info": {
      "name": "python"
    }
  },
  "cells": [
    {
      "cell_type": "markdown",
      "metadata": {
        "id": "view-in-github",
        "colab_type": "text"
      },
      "source": [
        "<a href=\"https://colab.research.google.com/github/Kommireddikrishnasuji/22MH1A42A3/blob/main/Untitled8.ipynb\" target=\"_parent\"><img src=\"https://colab.research.google.com/assets/colab-badge.svg\" alt=\"Open In Colab\"/></a>"
      ]
    },
    {
      "cell_type": "code",
      "execution_count": 2,
      "metadata": {
        "colab": {
          "base_uri": "https://localhost:8080/"
        },
        "id": "HB7ijyLkhhzi",
        "outputId": "01204ae0-26c3-4f13-a964-940c03992339"
      },
      "outputs": [
        {
          "output_type": "stream",
          "name": "stdout",
          "text": [
            "{'Jupiter': 1, 'has': 1, '79': 1, 'known': 1, 'moons': 1, '.': 1, 'Neptune': 1, '14': 1, 'confirmed': 1, '!': 1}\n"
          ]
        }
      ],
      "source": [
        "import numpy as np\n",
        "samples = {'Jupiter has 79 known moons .', 'Neptune has 14 confirmed moons !'}\n",
        "token_index = {}\n",
        "counter = 0\n",
        "for sample in samples:\n",
        " for considered_word in sample.split():\n",
        "  if considered_word not in token_index:\n",
        "\n",
        "    token_index.update({considered_word : counter + 1})\n",
        "counter = counter + 1\n",
        "print(token_index)\n",
        "{'Jupiter': 1, 'has': 2, '79': 3, 'known': 4, 'moons': 5, '.': 6, 'Neptune': 7, '14': 8, 'confirmed': 9, '!': 10}\n",
        "\n",
        "max_length = 6\n",
        "\n"
      ]
    },
    {
      "cell_type": "code",
      "source": [
        "results = np.zeros(shape = (len(samples), max_length, max(token_index.values()) + 1))\n",
        "\n",
        "for i, sample in enumerate(samples):\n",
        " for j, considered_word in list(enumerate(sample.split())):\n",
        "  index = token_index.get(considered_word)\n",
        "\n",
        "results[i, j, index] = 1.\n",
        "list(enumerate(sample.split()))\n",
        "[(0, 'Neptune'),\n",
        "(1, 'has'),\n",
        "(2, '14'),\n",
        "(3, 'confirmed'),\n",
        "(4, 'moons'),\n",
        "(5, '!')]\n",
        "\n",
        "for j, considered_word in list(enumerate(sample.split())):\n",
        " print(j, considered_word)\n",
        " print(results)"
      ],
      "metadata": {
        "colab": {
          "base_uri": "https://localhost:8080/"
        },
        "id": "CG_3RdhyhxJW",
        "outputId": "2d3592cf-ed05-4e3b-a2eb-b57edb6c3779"
      },
      "execution_count": 4,
      "outputs": [
        {
          "output_type": "stream",
          "name": "stdout",
          "text": [
            "0 Neptune\n",
            "[[[0. 0.]\n",
            "  [0. 0.]\n",
            "  [0. 0.]\n",
            "  [0. 0.]\n",
            "  [0. 0.]\n",
            "  [0. 0.]]\n",
            "\n",
            " [[0. 0.]\n",
            "  [0. 0.]\n",
            "  [0. 0.]\n",
            "  [0. 0.]\n",
            "  [0. 0.]\n",
            "  [0. 1.]]]\n",
            "1 has\n",
            "[[[0. 0.]\n",
            "  [0. 0.]\n",
            "  [0. 0.]\n",
            "  [0. 0.]\n",
            "  [0. 0.]\n",
            "  [0. 0.]]\n",
            "\n",
            " [[0. 0.]\n",
            "  [0. 0.]\n",
            "  [0. 0.]\n",
            "  [0. 0.]\n",
            "  [0. 0.]\n",
            "  [0. 1.]]]\n",
            "2 14\n",
            "[[[0. 0.]\n",
            "  [0. 0.]\n",
            "  [0. 0.]\n",
            "  [0. 0.]\n",
            "  [0. 0.]\n",
            "  [0. 0.]]\n",
            "\n",
            " [[0. 0.]\n",
            "  [0. 0.]\n",
            "  [0. 0.]\n",
            "  [0. 0.]\n",
            "  [0. 0.]\n",
            "  [0. 1.]]]\n",
            "3 confirmed\n",
            "[[[0. 0.]\n",
            "  [0. 0.]\n",
            "  [0. 0.]\n",
            "  [0. 0.]\n",
            "  [0. 0.]\n",
            "  [0. 0.]]\n",
            "\n",
            " [[0. 0.]\n",
            "  [0. 0.]\n",
            "  [0. 0.]\n",
            "  [0. 0.]\n",
            "  [0. 0.]\n",
            "  [0. 1.]]]\n",
            "4 moons\n",
            "[[[0. 0.]\n",
            "  [0. 0.]\n",
            "  [0. 0.]\n",
            "  [0. 0.]\n",
            "  [0. 0.]\n",
            "  [0. 0.]]\n",
            "\n",
            " [[0. 0.]\n",
            "  [0. 0.]\n",
            "  [0. 0.]\n",
            "  [0. 0.]\n",
            "  [0. 0.]\n",
            "  [0. 1.]]]\n",
            "5 !\n",
            "[[[0. 0.]\n",
            "  [0. 0.]\n",
            "  [0. 0.]\n",
            "  [0. 0.]\n",
            "  [0. 0.]\n",
            "  [0. 0.]]\n",
            "\n",
            " [[0. 0.]\n",
            "  [0. 0.]\n",
            "  [0. 0.]\n",
            "  [0. 0.]\n",
            "  [0. 0.]\n",
            "  [0. 1.]]]\n"
          ]
        }
      ]
    }
  ]
}