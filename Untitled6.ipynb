{
  "nbformat": 4,
  "nbformat_minor": 0,
  "metadata": {
    "colab": {
      "provenance": [],
      "authorship_tag": "ABX9TyP9UKGUFjA+uiszBMhJ7P9O",
      "include_colab_link": true
    },
    "kernelspec": {
      "name": "python3",
      "display_name": "Python 3"
    },
    "language_info": {
      "name": "python"
    }
  },
  "cells": [
    {
      "cell_type": "markdown",
      "metadata": {
        "id": "view-in-github",
        "colab_type": "text"
      },
      "source": [
        "<a href=\"https://colab.research.google.com/github/Kommireddikrishnasuji/22MH1A42A3/blob/main/Untitled6.ipynb\" target=\"_parent\"><img src=\"https://colab.research.google.com/assets/colab-badge.svg\" alt=\"Open In Colab\"/></a>"
      ]
    },
    {
      "cell_type": "code",
      "execution_count": 2,
      "metadata": {
        "colab": {
          "base_uri": "https://localhost:8080/"
        },
        "id": "bB57pV-xK-Uz",
        "outputId": "0e0556c7-1449-4298-ab11-d8ad551cda20"
      },
      "outputs": [
        {
          "output_type": "stream",
          "name": "stdout",
          "text": [
            "Pearson's Correlation Coefficient: 0.9999999999999998\n"
          ]
        }
      ],
      "source": [
        "import numpy as np\n",
        "def pearson_correlation(x,y):\n",
        "  mean_x=np.mean(x)\n",
        "  mean_y=np.mean(y)\n",
        "  covariance = np.sum((x - mean_x) * (y - mean_y))\n",
        "  std_dev_x = np.sqrt(np.sum((x - mean_x) ** 2))\n",
        "  std_dev_y = np.sqrt(np.sum((y - mean_y) ** 2))\n",
        "  correlation = covariance / (std_dev_x * std_dev_y)\n",
        "  return correlation\n",
        "x = np.array([1, 2, 3, 4, 5])\n",
        "y = np.array([2, 3, 4, 5, 6])\n",
        "print(\"Pearson's Correlation Coefficient:\",\n",
        "pearson_correlation(x, y))\n"
      ]
    },
    {
      "cell_type": "code",
      "source": [
        "from sklearn.metrics.pairwise import cosine_similarity\n",
        "vector1 = np.array([1, 2, 3])\n",
        "vector2 = np.array([4, 5, 6])\n",
        "cosine_sim = cosine_similarity(vector1.reshape(1,-1),\n",
        "vector2.reshape(1,-1))\n",
        "print(\"Cosine Similarity:\", cosine_sim[0][0])"
      ],
      "metadata": {
        "colab": {
          "base_uri": "https://localhost:8080/"
        },
        "id": "vr0OEGQgN49r",
        "outputId": "caee1bee-2ba0-4626-a1e9-08aaebe3c4ae"
      },
      "execution_count": 3,
      "outputs": [
        {
          "output_type": "stream",
          "name": "stdout",
          "text": [
            "Cosine Similarity: 0.9746318461970762\n"
          ]
        }
      ]
    },
    {
      "cell_type": "code",
      "source": [
        "def jaccard_similarity(set1, set2):\n",
        "    intersection = len(set1.intersection(set2))\n",
        "    union = len(set1.union(set2))\n",
        "    return intersection / union\n",
        "set1 = set([1, 2, 3])\n",
        "set2 = set([2, 3, 4])\n",
        "print(\"Jaccard Similarity:\",\n",
        "jaccard_similarity(set1, set2))"
      ],
      "metadata": {
        "colab": {
          "base_uri": "https://localhost:8080/"
        },
        "id": "cDJeaisBOA_q",
        "outputId": "4451f6d4-59d2-4d1e-bc39-b7207b2a6a07"
      },
      "execution_count": 5,
      "outputs": [
        {
          "output_type": "stream",
          "name": "stdout",
          "text": [
            "Jaccard Similarity: 0.5\n"
          ]
        }
      ]
    },
    {
      "cell_type": "code",
      "source": [
        "def euclidean_distance(x, y):\n",
        "   return np.sqrt(np.sum((x - y) ** 2))\n",
        "point1 = np.array([1, 2, 3])\n",
        "point2 = np.array([4, 5, 6])\n",
        "print(\"Euclidean Distance:\",\n",
        "euclidean_distance(point1, point2))"
      ],
      "metadata": {
        "colab": {
          "base_uri": "https://localhost:8080/"
        },
        "id": "IVVjv56LOOuC",
        "outputId": "f1a1338c-5822-4ba6-a38a-ba861a2e5d52"
      },
      "execution_count": 6,
      "outputs": [
        {
          "output_type": "stream",
          "name": "stdout",
          "text": [
            "Euclidean Distance: 5.196152422706632\n"
          ]
        }
      ]
    },
    {
      "cell_type": "code",
      "source": [
        "def manhattan_distance(x, y):\n",
        "  return np.sum(np.abs(x - y))\n",
        "point1 = np.array([1, 2, 3])\n",
        "point2 = np.array([4, 5, 6])\n",
        "print(\"Manhattan Distance:\",\n",
        "manhattan_distance(point1, point2))\n"
      ],
      "metadata": {
        "colab": {
          "base_uri": "https://localhost:8080/"
        },
        "id": "DqGuwwFgOVVC",
        "outputId": "6347c651-ab46-46e5-8668-92a817a437b3"
      },
      "execution_count": 7,
      "outputs": [
        {
          "output_type": "stream",
          "name": "stdout",
          "text": [
            "Manhattan Distance: 9\n"
          ]
        }
      ]
    }
  ]
}